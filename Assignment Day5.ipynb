{
 "cells": [
  {
   "cell_type": "markdown",
   "metadata": {},
   "source": [
    "# Question 1"
   ]
  },
  {
   "cell_type": "code",
   "execution_count": 14,
   "metadata": {},
   "outputs": [
    {
     "name": "stdout",
     "output_type": "stream",
     "text": [
      "3\n",
      "5\n",
      "7\n",
      "11\n",
      "13\n",
      "17\n",
      "19\n"
     ]
    }
   ],
   "source": [
    "first = 1\n",
    "last = 20\n",
    "\n",
    "for num in range(first, last + 1):\n",
    "    if(num>2):\n",
    "        for i in range(2, num):\n",
    "            if(num % i == 0):\n",
    "                break\n",
    "        else:\n",
    "            print(num)"
   ]
  },
  {
   "cell_type": "markdown",
   "metadata": {},
   "source": [
    "# Question 2"
   ]
  },
  {
   "cell_type": "code",
   "execution_count": 15,
   "metadata": {},
   "outputs": [
    {
     "name": "stdout",
     "output_type": "stream",
     "text": [
      "I have joined python course with letsuprade team\n"
     ]
    }
   ],
   "source": [
    "string = \"i Have Joined Python Course With LetsUprade Team\"\n",
    "x = string.capitalize();\n",
    "print(x) ## It capitailizes the 1st character of the string."
   ]
  },
  {
   "cell_type": "code",
   "execution_count": 16,
   "metadata": {},
   "outputs": [
    {
     "name": "stdout",
     "output_type": "stream",
     "text": [
      "i have joined python course with letsuprade team\n"
     ]
    }
   ],
   "source": [
    "string = \"i Have Joined Python Course With LetsUprade Team\"\n",
    "x = string.casefold()\n",
    "print(x) ## It converts string into lowercase"
   ]
  },
  {
   "cell_type": "code",
   "execution_count": 17,
   "metadata": {},
   "outputs": [
    {
     "name": "stdout",
     "output_type": "stream",
     "text": [
      "     LetsUprade     \n"
     ]
    }
   ],
   "source": [
    "string = \"LetsUprade\"\n",
    "x = string.center(20)\n",
    "print(x) ## Printing the word \"LetsUpgrade\" in the center after 20 spaces"
   ]
  },
  {
   "cell_type": "code",
   "execution_count": 18,
   "metadata": {},
   "outputs": [
    {
     "name": "stdout",
     "output_type": "stream",
     "text": [
      "2\n"
     ]
    }
   ],
   "source": [
    "string = \"I love cars, polo is one of my favourite cars\"\n",
    "x = string.count('cars')\n",
    "print(x)"
   ]
  },
  {
   "cell_type": "code",
   "execution_count": 19,
   "metadata": {},
   "outputs": [
    {
     "name": "stdout",
     "output_type": "stream",
     "text": [
      "b'I want to become a Data Scientist'\n"
     ]
    }
   ],
   "source": [
    "string = \"I want to become a Data Scientist\"\n",
    "x = string.encode()\n",
    "print(x)"
   ]
  },
  {
   "cell_type": "code",
   "execution_count": 20,
   "metadata": {},
   "outputs": [
    {
     "name": "stdout",
     "output_type": "stream",
     "text": [
      "True\n"
     ]
    }
   ],
   "source": [
    "string = \"I want to become a Data Scientist\"\n",
    "x = string.endswith('t')\n",
    "print(x)"
   ]
  },
  {
   "cell_type": "code",
   "execution_count": 21,
   "metadata": {},
   "outputs": [
    {
     "name": "stdout",
     "output_type": "stream",
     "text": [
      "s       a       ndeep\n"
     ]
    }
   ],
   "source": [
    "string = 's\\ta\\tndeep'\n",
    "x = string.expandtabs()\n",
    "print(x)"
   ]
  },
  {
   "cell_type": "code",
   "execution_count": 22,
   "metadata": {},
   "outputs": [
    {
     "name": "stdout",
     "output_type": "stream",
     "text": [
      "19\n"
     ]
    }
   ],
   "source": [
    "string = \"I want to become a Data Scientist\"\n",
    "x = string.find('Data')\n",
    "print(x)"
   ]
  },
  {
   "cell_type": "code",
   "execution_count": 23,
   "metadata": {},
   "outputs": [
    {
     "name": "stdout",
     "output_type": "stream",
     "text": [
      "Iphone 11 Costs  1000000.00 rupees\n"
     ]
    }
   ],
   "source": [
    "string = 'Iphone 11 Costs {cost: .2f} rupees'\n",
    "print(string.format(cost = 1000000))"
   ]
  },
  {
   "cell_type": "code",
   "execution_count": 24,
   "metadata": {},
   "outputs": [
    {
     "name": "stdout",
     "output_type": "stream",
     "text": [
      "0\n"
     ]
    }
   ],
   "source": [
    "string = \"I want to become a Data Scientist\"\n",
    "x = string.index('I')\n",
    "print(x)"
   ]
  },
  {
   "cell_type": "code",
   "execution_count": 25,
   "metadata": {},
   "outputs": [
    {
     "name": "stdout",
     "output_type": "stream",
     "text": [
      "True\n"
     ]
    }
   ],
   "source": [
    "string = 'Sandeep2119'\n",
    "x = string.isalnum()\n",
    "print(x) ## If the string contains both alphabets and numbers it returns true."
   ]
  },
  {
   "cell_type": "code",
   "execution_count": 26,
   "metadata": {},
   "outputs": [
    {
     "name": "stdout",
     "output_type": "stream",
     "text": [
      "True\n"
     ]
    }
   ],
   "source": [
    "string = 'SanDy'\n",
    "x =string.isalpha()\n",
    "print(x) ## Retunrs True if the String contains only alphabets."
   ]
  },
  {
   "cell_type": "code",
   "execution_count": 27,
   "metadata": {},
   "outputs": [
    {
     "name": "stdout",
     "output_type": "stream",
     "text": [
      "True\n"
     ]
    }
   ],
   "source": [
    "string = '2119'\n",
    "x = string.isdecimal()\n",
    "print(x)  ## Retunrs True if the String contains only Numbers."
   ]
  },
  {
   "cell_type": "code",
   "execution_count": 28,
   "metadata": {},
   "outputs": [
    {
     "name": "stdout",
     "output_type": "stream",
     "text": [
      "i want to become a data scientist\n"
     ]
    }
   ],
   "source": [
    "string = \"I want to become a Data Scientist\"\n",
    "x = string.lower()\n",
    "print(x) ## returns the string in lower case."
   ]
  },
  {
   "cell_type": "code",
   "execution_count": 29,
   "metadata": {},
   "outputs": [
    {
     "name": "stdout",
     "output_type": "stream",
     "text": [
      "False\n"
     ]
    }
   ],
   "source": [
    "string = \"I want to become a Data Scientist\"\n",
    "x = string.islower()\n",
    "print(x) ## returns true if all the characters in the string are in lowercase."
   ]
  },
  {
   "cell_type": "markdown",
   "metadata": {},
   "source": [
    "## Question 3"
   ]
  },
  {
   "cell_type": "code",
   "execution_count": 3,
   "metadata": {},
   "outputs": [
    {
     "name": "stdout",
     "output_type": "stream",
     "text": [
      " Enter a String abcba\n",
      " Enter another String abcba\n",
      "Anagram\n"
     ]
    }
   ],
   "source": [
    "\n",
    "string = input(' Enter a String ')\n",
    "string1 = input(' Enter another String ')\n",
    "\n",
    "string = string.casefold()\n",
    "string = string.replace(' ','')\n",
    "string1 = string1.casefold()\n",
    "string1 = string1.replace(' ','')\n",
    "\n",
    "\n",
    "def anagram(string, string1):\n",
    "    l  = len(string)\n",
    "    l1 = len(string1)\n",
    "    string = sorted(string)\n",
    "    string1 = sorted(string1)\n",
    "    \n",
    "    \n",
    "    if(l == l1):\n",
    "        for i in range(0, l):\n",
    "            if(string[i] == string1[i]):\n",
    "                return 1\n",
    "               \n",
    "\n",
    "               \n",
    "    \n",
    "def palindrome(string):\n",
    "    \n",
    "    if(string==reversed_str[::-1]):\n",
    "      print(\"The string is a palindrome\")\n",
    "    else:\n",
    "      print(\"The string isn't a palindrome\")\n",
    "       \n",
    "\n",
    "    \n",
    "if(anagram(string,string1) == 1):\n",
    "    print('Anagram')\n",
    "    \n",
    "elif (palindrome(string) == 1):\n",
    "    print('Palindrome')\n",
    "else:\n",
    "    print('None of them')\n",
    " \n",
    "\n",
    "\n",
    "\n",
    "\n"
   ]
  },
  {
   "cell_type": "markdown",
   "metadata": {},
   "source": [
    "# Question 4"
   ]
  },
  {
   "cell_type": "code",
   "execution_count": 88,
   "metadata": {},
   "outputs": [
    {
     "name": "stdout",
     "output_type": "stream",
     "text": [
      "drdarshaningleaimltrainer\n"
     ]
    }
   ],
   "source": [
    "my_string = 'Dr. Darshan Ingle @AIML Trainer'\n",
    "string = my_string.replace('.','').replace('@','').replace(' ','')\n",
    "string = string.lower()\n",
    "print(string)"
   ]
  }
 ],
 "metadata": {
  "kernelspec": {
   "display_name": "Python 3",
   "language": "python",
   "name": "python3"
  },
  "language_info": {
   "codemirror_mode": {
    "name": "ipython",
    "version": 3
   },
   "file_extension": ".py",
   "mimetype": "text/x-python",
   "name": "python",
   "nbconvert_exporter": "python",
   "pygments_lexer": "ipython3",
   "version": "3.7.4"
  }
 },
 "nbformat": 4,
 "nbformat_minor": 4
}
