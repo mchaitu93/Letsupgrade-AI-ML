{
 "cells": [
  {
   "cell_type": "raw",
   "metadata": {},
   "source": [
    "Question 1:\n",
    "Recreate “NB 21 map, filter, lambda.ipynb” to try different variations or perform different calculations from the ones that are in the NB.\n",
    "\n",
    "Python Lambda (Anonymous Functions and Nameless Functions), map(),filter() and reduce()\n",
    "map(), filter() and reduce() are the built-in functions in python\n",
    "map()\n",
    "map generally takes two arguments. It takes a function, iterable as agruments and return a new list. It applies funtion to all iterables in the list and returns new list. And map returns as an object, to print that we have to typecast it.\n",
    "\n",
    "map(function, iterable)"
   ]
  },
  {
   "cell_type": "code",
   "execution_count": 1,
   "metadata": {},
   "outputs": [
    {
     "data": {
      "text/plain": [
       "10"
      ]
     },
     "execution_count": 1,
     "metadata": {},
     "output_type": "execute_result"
    }
   ],
   "source": [
    "# map(funtion, iterables)\n",
    "def sum(a):\n",
    "    return a+a\n",
    "\n",
    "sum(5)"
   ]
  },
  {
   "cell_type": "code",
   "execution_count": 2,
   "metadata": {},
   "outputs": [
    {
     "name": "stdout",
     "output_type": "stream",
     "text": [
      "[2, 4, 6, 8, 10]\n"
     ]
    }
   ],
   "source": [
    "def sum(a):\n",
    "    return a+a\n",
    "x = map(sum,[1,2,3,4,5])\n",
    "print(list(x))"
   ]
  },
  {
   "cell_type": "code",
   "execution_count": 3,
   "metadata": {},
   "outputs": [
    {
     "name": "stdout",
     "output_type": "stream",
     "text": [
      "[6, 8, 4, 6, 8]\n"
     ]
    }
   ],
   "source": [
    "def sum(a,b):\n",
    "    return a+b\n",
    "x = map(sum,[1,2,3,4,5],[5,6,1,2,3])\n",
    "print(list(x))"
   ]
  },
  {
   "cell_type": "raw",
   "metadata": {},
   "source": [
    "filter()\n",
    "It filters the list with the help of function and iterable taken as an arguments and returns a list. filter returns as an oject, we have to typecast it.\n",
    "\n",
    "filter(function, iterable)"
   ]
  },
  {
   "cell_type": "code",
   "execution_count": 4,
   "metadata": {},
   "outputs": [
    {
     "data": {
      "text/plain": [
       "False"
      ]
     },
     "execution_count": 4,
     "metadata": {},
     "output_type": "execute_result"
    }
   ],
   "source": [
    "def even(x):\n",
    "    return x%2==0\n",
    "even(2)\n",
    "even(3)"
   ]
  },
  {
   "cell_type": "code",
   "execution_count": 5,
   "metadata": {},
   "outputs": [
    {
     "name": "stdout",
     "output_type": "stream",
     "text": [
      "[2, 4, 6, 8]\n"
     ]
    }
   ],
   "source": [
    "lst = [1,2,3,4,5,6,7,8,9]\n",
    "\n",
    "def even(x):\n",
    "    return x%2==0\n",
    "x = filter(even,lst)\n",
    "print(list(x))"
   ]
  },
  {
   "cell_type": "raw",
   "metadata": {},
   "source": [
    "reduce()\n",
    "It applies funtion to the given list and finally returns a single value.\n",
    "\n",
    "reduce(function,iterable)"
   ]
  },
  {
   "cell_type": "code",
   "execution_count": 6,
   "metadata": {},
   "outputs": [
    {
     "data": {
      "text/plain": [
       "21"
      ]
     },
     "execution_count": 6,
     "metadata": {},
     "output_type": "execute_result"
    }
   ],
   "source": [
    "def sum(a,b):\n",
    "    return a+b\n",
    "sum(15,6)"
   ]
  },
  {
   "cell_type": "code",
   "execution_count": 7,
   "metadata": {},
   "outputs": [
    {
     "name": "stdout",
     "output_type": "stream",
     "text": [
      "21\n"
     ]
    }
   ],
   "source": [
    "from functools import reduce\n",
    "\n",
    "def sum(a,b):\n",
    "    return a+b\n",
    "x = reduce(sum,[1,2,3,4,5,6])\n",
    "print(x)"
   ]
  },
  {
   "cell_type": "raw",
   "metadata": {},
   "source": [
    "reduce() using lambda function"
   ]
  },
  {
   "cell_type": "code",
   "execution_count": 8,
   "metadata": {},
   "outputs": [
    {
     "name": "stdout",
     "output_type": "stream",
     "text": [
      "21\n"
     ]
    }
   ],
   "source": [
    "x = reduce(lambda a,b: a+b,[1,2,3,4,5,6])\n",
    "print(x)"
   ]
  },
  {
   "cell_type": "markdown",
   "metadata": {},
   "source": [
    "## filter() using lambda function"
   ]
  },
  {
   "cell_type": "code",
   "execution_count": 9,
   "metadata": {},
   "outputs": [
    {
     "name": "stdout",
     "output_type": "stream",
     "text": [
      "[2, 4, 6, 8]\n"
     ]
    }
   ],
   "source": [
    "x = filter(lambda a : a%2==0, lst)\n",
    "print(list(x))"
   ]
  },
  {
   "cell_type": "markdown",
   "metadata": {},
   "source": [
    "## map() using lambda function"
   ]
  },
  {
   "cell_type": "code",
   "execution_count": 10,
   "metadata": {},
   "outputs": [
    {
     "name": "stdout",
     "output_type": "stream",
     "text": [
      "[2, 4, 6, 8, 10, 12, 14]\n"
     ]
    }
   ],
   "source": [
    "lst = [1,2,3,4,5,6,7]\n",
    "\n",
    "x = map(lambda x : x*2, lst)\n",
    "print(list(x))"
   ]
  },
  {
   "cell_type": "markdown",
   "metadata": {},
   "source": [
    "## Using lambda with map, filter and reduce"
   ]
  },
  {
   "cell_type": "code",
   "execution_count": 11,
   "metadata": {},
   "outputs": [
    {
     "name": "stdout",
     "output_type": "stream",
     "text": [
      "50\n"
     ]
    }
   ],
   "source": [
    "y = reduce( lambda a,b : a+b  , map(lambda x : x + x, filter(lambda x : x>=3,[1,2,3,4,5,6,7])))\n",
    "print((y))"
   ]
  },
  {
   "cell_type": "markdown",
   "metadata": {},
   "source": [
    "# # Question 2:Recreate your own Python NB for “Classes and Objects” from the pdf provided namely “Classes&Objects.pdf” "
   ]
  },
  {
   "cell_type": "markdown",
   "metadata": {},
   "source": [
    "## Class"
   ]
  },
  {
   "cell_type": "raw",
   "metadata": {},
   "source": [
    "A class is a blue print of object.Classes provide a means of bundling data and functionality together. Creating a new class creates a new type of object, allowing new instances of that type to be made. Each class instance can have attributes attached to it for maintaining its state. Class instances can also have methods (defined by its class) for modifying its state.\n",
    "\n",
    "Class can be created using class keyword.\n",
    "Class consists of data members and merber functions.\n",
    "Data members and member functions collectively called class."
   ]
  },
  {
   "cell_type": "raw",
   "metadata": {},
   "source": [
    "Syntax of class:"
   ]
  },
  {
   "cell_type": "markdown",
   "metadata": {},
   "source": [
    "### class ClassName: pass"
   ]
  },
  {
   "cell_type": "markdown",
   "metadata": {},
   "source": [
    "# Class Objects"
   ]
  },
  {
   "cell_type": "raw",
   "metadata": {},
   "source": [
    "An object is a real world entity, Which has state and behaviour. An Object is an instance of a Class. A class is like a blueprint while an instance is a copy of the class with actual values.\n",
    "\n",
    "State : It is represented by attributes of an object. It also reflects the properties of an object.\n",
    "Behavior : It is represented by methods of an object. It also reflects the response of an object with other objects.\n",
    "Identity : It gives a unique name to an object and enables one object to interact with other objects.\n",
    "When object is created to class, then it is said to be instantiated. Memory gets allocated, when objects are created. Untill the objects are created there wont be any memory allocation for that class."
   ]
  },
  {
   "cell_type": "code",
   "execution_count": 12,
   "metadata": {},
   "outputs": [
    {
     "name": "stdout",
     "output_type": "stream",
     "text": [
      "Hi iam a customer\n"
     ]
    }
   ],
   "source": [
    "class Customer:\n",
    "    def customerDetails(self):\n",
    "        print('Hi iam a customer')\n",
    "    \n",
    "c = Customer()\n",
    "c.customerDetails()"
   ]
  },
  {
   "cell_type": "raw",
   "metadata": {},
   "source": [
    "# self\n",
    "Self is not a keyword, its just a convention\n",
    "Class methods must have an extra first parameter in method definition. We do not give a value for this parameter when we call the method, Python provides it.If we have a method which takes no arguments, then we still have to have one argument.This is similar to this pointer in C++ and this reference in Java.\n",
    "When we call a method of this object as myobject.method(arg1, arg2), this is automatically converted by Python into MyClass.method(myobject, arg1, arg2) – this is all the special self is about.\n",
    "init method\n",
    "\n",
    "The init method is similar to constructors in C++ and Java. Constructors are used to initialize the object’s state. Like methods, a constructor also contains a collection of statements(i.e. instructions) that are executed at the time of Object creation. It is run as soon as an object of a class is instantiated. The method is useful to do any initialization you want to do with your object."
   ]
  },
  {
   "cell_type": "code",
   "execution_count": 17,
   "metadata": {},
   "outputs": [
    {
     "name": "stdout",
     "output_type": "stream",
     "text": [
      " The Id of the employee is =>  1457\n",
      " The Name of the emoloyee is =>  Chaitanya\n"
     ]
    }
   ],
   "source": [
    "class Employee:\n",
    "    def __init__(self,id,name):\n",
    "        self.id = id\n",
    "        self.name = name\n",
    "    def details(self):\n",
    "        print(' The Id of the employee is => ', self.id)\n",
    "        print(' The Name of the emoloyee is => ', self.name)\n",
    "        \n",
    "        \n",
    "obj = Employee(1457,'Chaitanya')\n",
    "obj.details()"
   ]
  },
  {
   "cell_type": "markdown",
   "metadata": {},
   "source": [
    "# #Class and Instance Variables"
   ]
  },
  {
   "cell_type": "raw",
   "metadata": {},
   "source": [
    "Instance variables are for data unique to each instance and class variables are for attributes and methods shared by all instances of the class. Instance variables are variables whose value is assigned inside a constructor or method with self whereas class variables are variables whose value is assigned in the class."
   ]
  },
  {
   "cell_type": "code",
   "execution_count": 18,
   "metadata": {},
   "outputs": [
    {
     "name": "stdout",
     "output_type": "stream",
     "text": [
      "The details of the  Figo car :\n",
      "The car is :  Figo\n",
      "The brand of the car is :  Ford\n",
      "The colour of the car is :  White\n",
      "\n",
      "The details of the  Polo car :\n",
      "The car is :  Polo\n",
      "The brand of the car is :  Volkswagen\n",
      "The colour of the car is :  Grey\n"
     ]
    }
   ],
   "source": [
    "\n",
    "class Car:\n",
    "    # Class Variables\n",
    "    car1 = 'Figo'\n",
    "    car2 = 'Polo'\n",
    "    \n",
    "    \n",
    "    def __init__(self,brand,colour):\n",
    "        # Instance Variables\n",
    "        self.brand = brand\n",
    "        self.colour = colour\n",
    "\n",
    "Figo = Car('Ford','White')\n",
    "Polo = Car('Volkswagen','Grey')\n",
    "print('The details of the  Figo car :')\n",
    "print('The car is : ',Car.car1)\n",
    "print('The brand of the car is : ', Figo.brand )\n",
    "print('The colour of the car is : ', Figo.colour)\n",
    "\n",
    "print('\\nThe details of the  Polo car :')\n",
    "print('The car is : ',Car.car2)\n",
    "print('The brand of the car is : ', Polo.brand )\n",
    "print('The colour of the car is : ', Polo.colour)"
   ]
  },
  {
   "cell_type": "code",
   "execution_count": 19,
   "metadata": {},
   "outputs": [
    {
     "name": "stdout",
     "output_type": "stream",
     "text": [
      "White\n"
     ]
    }
   ],
   "source": [
    "## Instance Variables inside functions.\n",
    "class Car:  \n",
    "        \n",
    "    # Class Variable  \n",
    "    car = 'City'      \n",
    "        \n",
    "    # The init method or constructor  \n",
    "    def __init__(self, brand):  \n",
    "            \n",
    "        # Instance Variable  \n",
    "        self.brand = brand              \n",
    "    \n",
    "    # Adds an instance variable   \n",
    "    def setColor(self, color):  \n",
    "        self.color = color  \n",
    "        \n",
    "    # Retrieves instance variable      \n",
    "    def getColor(self):      \n",
    "        return self.color     \n",
    "    \n",
    "  \n",
    "City = Car(\"Honda\")  \n",
    "City.setColor(\"White\")  \n",
    "print(City.getColor())"
   ]
  },
  {
   "cell_type": "code",
   "execution_count": null,
   "metadata": {},
   "outputs": [],
   "source": []
  }
 ],
 "metadata": {
  "kernelspec": {
   "display_name": "Python 3",
   "language": "python",
   "name": "python3"
  },
  "language_info": {
   "codemirror_mode": {
    "name": "ipython",
    "version": 3
   },
   "file_extension": ".py",
   "mimetype": "text/x-python",
   "name": "python",
   "nbconvert_exporter": "python",
   "pygments_lexer": "ipython3",
   "version": "3.7.4"
  }
 },
 "nbformat": 4,
 "nbformat_minor": 2
}
