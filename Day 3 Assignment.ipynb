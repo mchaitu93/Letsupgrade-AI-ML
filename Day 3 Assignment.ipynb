{
 "cells": [
  {
   "cell_type": "code",
   "execution_count": 3,
   "metadata": {},
   "outputs": [
    {
     "name": "stdout",
     "output_type": "stream",
     "text": [
      "(1+1j)\n"
     ]
    }
   ],
   "source": [
    "c1=3+4j\n",
    "c2=2+3j\n",
    "result=c1-c2\n",
    "print(result)"
   ]
  },
  {
   "cell_type": "code",
   "execution_count": 27,
   "metadata": {},
   "outputs": [
    {
     "name": "stdout",
     "output_type": "stream",
     "text": [
      "Enter base Value81\n",
      "Enter exponential Value0.25\n",
      "3.0\n"
     ]
    }
   ],
   "source": [
    "b=float(input(\"Enter base Value\"))\n",
    "e=float(input(\"Enter exponential Value\"))\n",
    "rootValue=b**e\n",
    "print(rootValue)"
   ]
  },
  {
   "cell_type": "code",
   "execution_count": 31,
   "metadata": {},
   "outputs": [
    {
     "name": "stdout",
     "output_type": "stream",
     "text": [
      "Enter num1 Value7\n",
      "Enter num2 value8\n",
      "num1 value is  8  and num2 value is  7\n"
     ]
    }
   ],
   "source": [
    "num1=int(input(\"Enter num1 Value\"))\n",
    "num2=int(input(\"Enter num2 value\"))\n",
    "temp=num1\n",
    "num1=num2\n",
    "num2=temp\n",
    "print(\"num1 value is \",num1,\" and num2 value is \",num2)"
   ]
  },
  {
   "cell_type": "code",
   "execution_count": 34,
   "metadata": {},
   "outputs": [
    {
     "name": "stdout",
     "output_type": "stream",
     "text": [
      "Enter firstNum Value7\n",
      "Enter secondNum value8\n",
      "firstNum value =  8  and secondNum value =  7\n"
     ]
    }
   ],
   "source": [
    "firstNum=int(input(\"Enter firstNum Value\"))\n",
    "secondNum=int(input(\"Enter secondNum value\"))\n",
    "firstNum=firstNum+secondNum\n",
    "secondNum=firstNum-secondNum\n",
    "firstNum=firstNum-secondNum\n",
    "print(\"firstNum value = \",firstNum,\" and secondNum value = \",secondNum)"
   ]
  },
  {
   "cell_type": "code",
   "execution_count": 60,
   "metadata": {},
   "outputs": [
    {
     "name": "stdout",
     "output_type": "stream",
     "text": [
      "Enter Fahrenheit value100\n",
      "Temperaure in kelvin =  311.27777777777777  and temperature in celsius =  37.77777777777778\n"
     ]
    }
   ],
   "source": [
    "fah=int(input(\"Enter Fahrenheit value\"))\n",
    "cel=((fah-32.0)*(5.0/9.0))\n",
    "#kel=273.5 + ((fah-32.0)*(5/9))\n",
    "kel= cel + 273.5\n",
    "print(\"Temperaure in kelvin = \",kel,\" and temperature in celsius = \",cel)"
   ]
  },
  {
   "cell_type": "code",
   "execution_count": 55,
   "metadata": {},
   "outputs": [
    {
     "name": "stdout",
     "output_type": "stream",
     "text": [
      "<class 'int'>\n",
      "<class 'float'>\n",
      "<class 'str'>\n",
      "<class 'list'>\n",
      "<class 'tuple'>\n",
      "<class 'complex'>\n",
      "<class 'range'>\n",
      "<class 'dict'>\n",
      "<class 'set'>\n",
      "<class 'bool'>\n",
      "<class 'bytearray'>\n",
      "<class 'memoryview'>\n",
      "<class 'bytes'>\n",
      "<class 'frozenset'>\n"
     ]
    }
   ],
   "source": [
    "a = 5\n",
    "print(type(a))\n",
    "b = 7.0\n",
    "print(type(b))\n",
    "c= \"Hello\"\n",
    "print(type(c))\n",
    "d=['apple','bat','cat']\n",
    "print(type(d))\n",
    "e=('a','b','c','d','e')\n",
    "print(type(e))\n",
    "f=2+3j\n",
    "print(type(f))\n",
    "g=range(5)\n",
    "print(type(g))\n",
    "h={\"name\" : \"Chaitu\", \"city\" : \"Hyderabad\"}\n",
    "print(type(h))\n",
    "i={\"apple\", \"bat\", \"cat\"}\n",
    "print(type(i))\n",
    "j=True\n",
    "print(type(j))\n",
    "k=bytearray(5)\n",
    "print(type(k))\n",
    "l=memoryview(bytes(5))\n",
    "print(type(l))\n",
    "m=b\"Hello\"\n",
    "print(type(m))\n",
    "n=frozenset({\"apple\", \"banana\", \"cherry\"})\n",
    "print(type(n))"
   ]
  },
  {
   "cell_type": "code",
   "execution_count": null,
   "metadata": {},
   "outputs": [],
   "source": []
  }
 ],
 "metadata": {
  "kernelspec": {
   "display_name": "Python 3",
   "language": "python",
   "name": "python3"
  },
  "language_info": {
   "codemirror_mode": {
    "name": "ipython",
    "version": 3
   },
   "file_extension": ".py",
   "mimetype": "text/x-python",
   "name": "python",
   "nbconvert_exporter": "python",
   "pygments_lexer": "ipython3",
   "version": "3.7.4"
  }
 },
 "nbformat": 4,
 "nbformat_minor": 2
}
